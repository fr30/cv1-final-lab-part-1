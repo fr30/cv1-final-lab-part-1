{
 "cells": [
  {
   "cell_type": "markdown",
   "metadata": {},
   "source": [
    "<center> <img src=\"https://miro.medium.com/v2/resize:fit:1250/format:webp/1*QgI1t-7yJApi4vQigFgsLQ.jpeg\" width=25% > </center>\n",
    "\n",
    "<br><br>\n",
    "\n",
    "<center> \n",
    "    <font size=\"6\">Final Lab (Part 1): Keypoint Detection, Bag of Visual Words and Image Classification</font>\n",
    "</center>\n",
    "<center> \n",
    "    <font size=\"4\">Computer Vision 1 University of Amsterdam</font> \n",
    "</center>\n",
    "<center> \n",
    "    <font size=\"4\">Due 23:59PM, October 18, 2024 (Amsterdam time)</font> \n",
    "</center>\n",
    "<center> \n",
    "    <font size=\"4\"><b>TA's: Vlad, Matey & Antonios</b></font>\n",
    "</center>\n",
    "\n",
    "<br><br>\n",
    "\n",
    "***\n",
    "\n",
    "<br><br>\n",
    "\n",
    "<center>\n",
    "\n",
    "Student1 ID:  \\\n",
    "Student1 Name: \n",
    "\n",
    "Student2 ID: \\\n",
    "Student2 Name: \n",
    "\n",
    "Student3 ID: \\\n",
    "Student3 Name: \n",
    "\n",
    "( Student4 ID: \\\n",
    "Student4 Name: )\n",
    "\n",
    "</center>"
   ]
  },
  {
   "cell_type": "markdown",
   "metadata": {},
   "source": [
    "### **General Guidelines**\n",
    "\n",
    "Your code must be handed in this Jupyter notebook, renamed to **StudentID1_StudentID2_StudentID3.ipynb** before the deadline by submitting it to the Canvas Final Lab (Part 1) Assignment. Please also fill out your names and IDs above.\n",
    "\n",
    "For full credit, make sure your notebook follows these guidelines:\n",
    "\n",
    "- Please express your thoughts **concisely**. The number of words does not necessarily correlate with how well you understand the concepts.\n",
    "- Understand the problem as much as you can. When answering a question, provide evidence (qualitative and/or quantitative results, references to papers, figures, etc.) to support your arguments. Not everything might be explicitly asked for, so think about what might strengthen your arguments to make the notebook self-contained and complete.\n",
    "- Tables and figures must be accompanied by a **brief** description. Add a number, a title, and, if applicable, the name and unit of variables in a table, and name and unit of axes and legends in a figure.\n",
    "\n",
    "**Late submissions are not allowed.** Assignments submitted after the strict deadline will not be graded. In case of submission conflicts, TAs’ system clock is taken as reference. We strongly recommend submitting well in advance to avoid last-minute system failure issues.\n",
    "\n",
    "**Environment:** Since this is a project-based assignment, you are free to use any feature descriptor and machine learning tools (e.g., K-means, SVM). You should use Python for your implementation. You are free to use any Python library for this assignment, but make sure to provide a conda environment file!\n",
    "\n",
    "**Plagiarism Note:** Keep in mind that plagiarism (submitted materials which are not your work) is a serious offense and any misconduct will be addressed according to university regulations. This includes using generative tools such as ChatGPT.\n",
    "\n",
    "**Ensure that you save all results/answers to the questions (even if you reuse some code).**"
   ]
  },
  {
   "cell_type": "markdown",
   "metadata": {},
   "source": [
    "### **Report Preparation**\n",
    "\n",
    "Your tasks include the following:\n",
    "\n",
    "1. **Report Preparation:** For both parts of the final project, students are expected to prepare a report. The report should include all details on implementation approaches, analysis of results for different settings, and visualizations illustrating experiments and performance of your implementation. Grading will be based on the report, so it should be as self-contained as possible. If the report contains faulty results or ambiguities, TAs can refer to your code for clarification. Only section 10 of this notebook should **not** be included in the report.\n",
    "\n",
    "2. **Explanation of Results:** Do not just provide numbers without explanation. Discuss different settings to show your understanding of the material and processes involved.\n",
    "\n",
    "3. **Quantitative Evaluation:** For quantitative evaluation, you are expected to provide the results based on the mAP (mean Average Precision) metric. You should report the mAP for each experimental setup. \n",
    "\n",
    "4. **Qualitative Evaluation:** For qualitative evaluation, you are expected to visualize the top-5 and bottom-5 ranked test images (based on classifier confidence for the target class) per setup. Provide a figure for each experimental setup Visual elements such as charts, graphs, and plots are always useful. Keep this in mind while writing your reports.\n",
    "\n",
    "5. **Aim:** Understand the basic Image Classification pipeline using a traditional Bag of Visual Words method.\n",
    "\n",
    "6. **Working on Assignments:** Students should work in assigned groups for **two** weeks. Any questions can be discussed on ED.\n",
    "\n",
    "    - **Submission:** Submit your source code and report together in a zip file (`ID1_ID2_ID3_part1.zip`). The report should be a maximum of 10 pages (single-column, including tables and figures, excluding references and appendix). Express thoughts concisely. Tables and figures must be accompanied by a description. Number them and, if applicable, name variables in tables, and label axes in figures.\n",
    "\n",
    "7. **Hyperparameter Search:** In your experiments, remember to perform a hyperparameter search to find the optimal settings for your classifier. Clearly document the search process, the parameters you explored, and how they influenced the performance of your model.\n",
    "\n",
    "8. **Format and Testing:** The report should be in **PDF format**, and the code in **.ipynb format**. Test that all functionality works as expected in the notebook."
   ]
  },
  {
   "cell_type": "markdown",
   "metadata": {},
   "source": [
    "### **Overview**\n",
    "\n",
    "- [Section 1: Data Preparation (0 points)](#section-1)\n",
    "- [Section 2: Keypoint Detection and Feature Extraction (3 points)](#section-2)\n",
    "- [Section 3: Building the Visual Vocabulary (3 points)](#section-3)\n",
    "- [Section 4: Encoding Train Image Features (3 points)](#section-4)\n",
    "- [Section 5: Visualizing the Bag of Visual Words for Each Class (3 points)](#section-5)\n",
    "- [Section 6: Encoding Test Image Features (0 points)](#section-6)\n",
    "- [Section 7: Training the Classifiers (5 points)](#section-7)\n",
    "- [Section 8: Evaluating the Classifiers (12 points)](#section-8)\n",
    "- [Section 9: Hyperparameter Search (16 points)](#section-9)\n",
    "- [Section 10: Using CLIP for Image Classification (5 points)](#section-10)\n",
    "- [Section X: Individual Contribution Report (Mandatory)](#section-x)"
   ]
  },
  {
   "cell_type": "markdown",
   "metadata": {},
   "source": [
    "### **Section 1: Data Preparation (0 points)**\n",
    "\n",
    "The goal of this lab is to implement an image classification system that can identify objects from a given set of classes. You will perform a 5-class image classification using a bag-of-words approach ([reference](http://www.robots.ox.ac.uk/~az/icvss08_az_bow.pdf)). The classes for this task are:\n",
    "\n",
    "1. **Frog**\n",
    "2. **Automobile**\n",
    "3. **Bird**\n",
    "4. **Cat**\n",
    "5. **Deer**\n",
    "\n",
    "The [CIFAR-10 dataset](https://www.cs.toronto.edu/~kriz/cifar.html) will be used for this task. This dataset contains 32x32 pixel RGB images, divided into sub-directories with 5000 training images and 1000 test images for each class.\n",
    "\n",
    "The dataset will be automatically downloaded using the code provided in this notebook. You will need to perform training on the training set, which will later be divided into two subsets: one for building the visual vocabulary and another for training the classifier. Using more samples for training generally results in better performance. However, if computational resources are limited, you may use fewer training images to save time, as long as at least 500 images per class are included.\n",
    "\n",
    "The system must be tested using the specified subset of test images. Use all 1000 test images (per class) to observe the full performance of the model. Ensure that test images are excluded from training to maintain a fair comparison."
   ]
  },
  {
   "cell_type": "code",
   "execution_count": 3,
   "metadata": {},
   "outputs": [
    {
     "name": "stdout",
     "output_type": "stream",
     "text": [
      "Files already downloaded and verified\n",
      "Files already downloaded and verified\n",
      "Filtered train data: torch.Size([5000, 32, 32, 3])\n",
      "Filtered train labels: torch.Size([5000])\n",
      "Filtered test data: torch.Size([1000, 32, 32, 3])\n",
      "Filtered test labels: torch.Size([1000])\n"
     ]
    }
   ],
   "source": [
    "import torch\n",
    "import torchvision\n",
    "import torchvision.transforms as transforms\n",
    "from torch.utils.data import DataLoader, Dataset, Subset\n",
    "import numpy as np\n",
    "import matplotlib.pyplot as plt\n",
    "import cv2\n",
    "\n",
    "# Define total train and test sizes\n",
    "total_train_size = 5000  # Default value for total training images\n",
    "total_test_size = 1000   # Default value for total test images\n",
    "\n",
    "# Define batch sizes for DataLoader\n",
    "train_batch_size = total_train_size\n",
    "test_batch_size = total_test_size\n",
    "\n",
    "# Define the number of Visual Words\n",
    "num_of_visual_words = 1000  # Default value for number of visual words\n",
    "\n",
    "# Number of classes\n",
    "num_classes = 5\n",
    "\n",
    "# Compute images per class for training and testing\n",
    "images_per_class_train = total_train_size // num_classes  # e.g., 5000 // 5 = 1000 per class\n",
    "images_per_class_test = total_test_size // num_classes    # e.g., 1000 // 5 = 200 per class\n",
    "\n",
    "# Define the transformations\n",
    "transform = transforms.Compose([\n",
    "    transforms.ToTensor(),\n",
    "    transforms.Normalize((0.5, 0.5, 0.5), (0.5, 0.5, 0.5))  \n",
    "])\n",
    "\n",
    "# Define the class indices for the 5 selected classes: frog, automobile, bird, cat, and deer\n",
    "selected_classes = [6, 1, 2, 3, 4]  # 6: frog, 1: automobile, 2: bird, 3: cat, 4: deer\n",
    "class_to_label = {orig_class: new_label for new_label, orig_class in enumerate(selected_classes)}\n",
    "\n",
    "# Load the CIFAR-10 training set\n",
    "train_set = torchvision.datasets.CIFAR10(root='./data', train=True, download=True, transform=transform)\n",
    "\n",
    "# Function to filter and remap dataset\n",
    "def filter_dataset(dataset, images_per_class, selected_classes, class_to_label):\n",
    "    selected_indices = []\n",
    "    class_counts = {class_idx: 0 for class_idx in selected_classes}\n",
    "    remapped_labels = []\n",
    "\n",
    "    for idx, (image, label) in enumerate(dataset):\n",
    "        if label in selected_classes and class_counts[label] < images_per_class:\n",
    "            selected_indices.append(idx)\n",
    "            remapped_labels.append(class_to_label[label])\n",
    "            class_counts[label] += 1\n",
    "\n",
    "            # Stop if we have enough samples for each class\n",
    "            if all(count >= images_per_class for count in class_counts.values()):\n",
    "                break\n",
    "\n",
    "    filtered_dataset = Subset(dataset, selected_indices)\n",
    "    return filtered_dataset, remapped_labels\n",
    "\n",
    "# Filter and remap training set\n",
    "filtered_train_set, train_mapped_labels = filter_dataset(train_set, images_per_class_train, selected_classes, class_to_label)\n",
    "\n",
    "# Load the CIFAR-10 test set\n",
    "test_set = torchvision.datasets.CIFAR10(root='./data', train=False, download=True, transform=transform)\n",
    "\n",
    "# Filter and remap test set\n",
    "filtered_test_set, test_mapped_labels = filter_dataset(test_set, images_per_class_test, selected_classes, class_to_label)\n",
    "\n",
    "# Create data loaders for the filtered datasets\n",
    "train_data_loader = DataLoader(filtered_train_set, batch_size=train_batch_size, shuffle=False)\n",
    "test_data_loader = DataLoader(filtered_test_set, batch_size=test_batch_size, shuffle=False)\n",
    "\n",
    "# Extract all training data and remapped labels\n",
    "train_images, _ = next(iter(train_data_loader))\n",
    "train_labels = torch.tensor(train_mapped_labels)\n",
    "\n",
    "train_images = train_images.permute(0, 2, 3, 1)\n",
    "print(f\"Filtered train data: {train_images.shape}\")\n",
    "print(f\"Filtered train labels: {train_labels.shape}\")\n",
    "\n",
    "# Extract all test data and remapped labels\n",
    "test_images, _ = next(iter(test_data_loader))\n",
    "test_labels = torch.tensor(test_mapped_labels)\n",
    "\n",
    "test_images = test_images.permute(0, 2, 3, 1)\n",
    "print(f\"Filtered test data: {test_images.shape}\")\n",
    "print(f\"Filtered test labels: {test_labels.shape}\")"
   ]
  },
  {
   "cell_type": "markdown",
   "metadata": {},
   "source": [
    "<a id=\"section-2\"></a>\n",
    "### **Section 2: Keypoint Detection and Feature Extraction (3 points)**\n",
    "\n",
    "In this section, you will work on detecting keypoints and extracting features from the dataset. Your task is to use **two different feature extraction techniques** to identify keypoints in the images. Visualize two images from each of the five classes (Frog, Automobile, Bird, Cat, Deer) for both feature extraction techniques. For each image, draw circles around the detected keypoints that represent their size.\n",
    "\n",
    "This step is essential to understand how different feature extractors behave across various classes, setting the foundation for further analysis and classification in later steps.\n",
    "\n",
    "**Hint:** You can use the OpenCV library to detect keypoints and extract features. You can also upscale the images to improve the visualization of the keypoints."
   ]
  },
  {
   "cell_type": "code",
   "execution_count": 2,
   "metadata": {},
   "outputs": [],
   "source": [
    "# YOUR CODE HERE"
   ]
  },
  {
   "cell_type": "markdown",
   "metadata": {},
   "source": [
    "<a id=\"section-3\"></a>\n",
    "### **Section 3: Building the Visual Vocabulary (3 points)**\n",
    "\n",
    "In this section, the task is to create a visual vocabulary by clustering feature descriptors extracted from the images using K-Means. Each cluster center in this vocabulary will represent a visual word. Use the two different extraction techniques you implemented to extract descriptors from a subset of training images that includes all categories, and then apply K-Means clustering to build the vocabulary. The number of clusters is fixed at 1000, but you can experiment with different values when you are tuning the hyperparameters in section 9.\n",
    "\n",
    "To examine the effect of different amounts of training data, build separate visual vocabularies using 30%, 40%, and 50% subsets of the training images. For faster clustering, the `faiss` library can be used, as it provides an efficient implementation of K-Means. Then, visualize the first 10 clusters for each feature extraction technique and each subset size using PCA to reduce the dimensions to 2D.\n",
    "\n",
    "**Hints:**\n",
    "1. Begin by debugging the code with a small number of input images to ensure it functions correctly before running it on larger datasets.\n",
    "2. If the `faiss` library is not available, K-Means clustering can also be performed using the `sklearn` or `scipy` libraries.\n",
    "3. For visualization, use PCA from `sklearn.decomposition` to reduce the high-dimensional descriptors to 2D. Display up to 10 clusters in the scatter plot to maintain clarity."
   ]
  },
  {
   "cell_type": "code",
   "execution_count": 3,
   "metadata": {},
   "outputs": [],
   "source": [
    "# YOUR CODE HERE"
   ]
  },
  {
   "cell_type": "markdown",
   "metadata": {},
   "source": [
    "<a id=\"section-4\"></a>\n",
    "### **Section 4: Encoding Train Image Features (3 points)**\n",
    "\n",
    "In this section, the task is to encode image features using the visual vocabulary created earlier. Each image will be represented as a histogram of visual words, reflecting the frequency of each visual word in the image. This representation will allow for comparing images based on their visual content.\n",
    "\n",
    "To encode an image, identify the nearest visual word (cluster center) for each feature descriptor extracted from the image. Construct a histogram that counts the occurrences of each visual word within the image. The final output will be a collection of histograms, one for each image, where each histogram serves as the feature representation of that image. Once again,  Use the two different extraction techniques you implemented to extract descriptors from the images. Then, encode the images using the visual vocabulary created in the previous step.\n",
    "\n",
    "**Hint:** Utilize the `faiss` library for efficient nearest neighbor search when assigning each descriptor to the nearest cluster center in the visual dictionary. If `faiss` is not available, consider using other libraries, such as `scikit-learn`, for this step. Once the histograms are obtained, they will be used for further tasks, such as training a classifier. For now, perform the encoding only for the training set."
   ]
  },
  {
   "cell_type": "code",
   "execution_count": 4,
   "metadata": {},
   "outputs": [],
   "source": [
    "# YOUR CODE HERE"
   ]
  },
  {
   "cell_type": "markdown",
   "metadata": {},
   "source": [
    "<a id=\"section-5\"></a>\n",
    "### **Section 5: Visualizing the Bag of Visual Words for Each Class (3 points)**\n",
    "\n",
    "In this section, the task is to visualize the Bag of Visual Words for each class using the histograms generated in the previous step. The goal is to plot the mean histogram of visual words for each class, showing the distribution of visual words across the different categories in the training set.\n",
    "\n",
    "Use the two different extraction techniques you implemented for this visualization. For each technique, calculate the mean histogram for each class and create a bar plot to display these histograms. Ensure that the plots are labeled clearly with the class names and feature descriptor types."
   ]
  },
  {
   "cell_type": "code",
   "execution_count": 5,
   "metadata": {},
   "outputs": [],
   "source": [
    "# YOUR CODE HERE"
   ]
  },
  {
   "cell_type": "markdown",
   "metadata": {},
   "source": [
    "<a id=\"section-6\"></a>\n",
    "### **Section 6: Encoding Test Image Features (0 points)**\n",
    "\n",
    "In this section, the task is to encode the test image features using the visual vocabulary created from the training set. Similar to the previous encoding step, each test image will be represented as a histogram of visual words, which will then be used for evaluating classification performance.\n",
    "\n",
    "Use the same two feature extraction techniques you selected earlier. Extract keypoints and descriptors for the test images, then encode these images using the visual vocabulary. This will allow you to compare the encoded features of test images against those of the training set.\n",
    "\n",
    "**Hint:** Reuse the functions developed earlier for extracting keypoints, descriptors, and encoding images. Ensure that you use the visual vocabulary constructed with the training images for consistency."
   ]
  },
  {
   "cell_type": "code",
   "execution_count": 6,
   "metadata": {},
   "outputs": [],
   "source": [
    "# YOUR CODE HERE"
   ]
  },
  {
   "cell_type": "markdown",
   "metadata": {},
   "source": [
    "<a id=\"section-7\"></a>\n",
    "### **Section 7: Training the Classifiers (5 points)**\n",
    "\n",
    "In this section, the task is to create two one-vs-rest (OvR) SVM classifiers using the 50% of the training data that was **not** used for creating the visual dictionary. This ensures that the classifiers are trained on a different subset of data, providing a more robust evaluation of the visual vocabulary's effectiveness.\n",
    "\n",
    "For each of the two selected feature extraction techniques, create one-vs-rest classifiers for all classes. For now, use default parameter values when training the classifiers; you will experiment with different hyperparameters in later steps.\n",
    "\n",
    "**Note:** Training an OvR classifier can take around 5 to 7 minutes. Therefore, it's advisable to first test your code with a smaller subset of the training data to verify that your implementation works correctly before running it on the full dataset."
   ]
  },
  {
   "cell_type": "code",
   "execution_count": 7,
   "metadata": {},
   "outputs": [],
   "source": [
    "# YOUR CODE HERE"
   ]
  },
  {
   "cell_type": "markdown",
   "metadata": {},
   "source": [
    "<a id=\"section-8\"></a>\n",
    "### **Section 8: Evaluating the Classifiers (12 points)**\n",
    "\n",
    "In this section, you will evaluate the performance of your one-vs-rest (OvR) SVM classifiers on the test data. The goal is to classify each test image using each binary classifier and rank the images based on the classification scores, resulting in a ranked list of images for each class. Ideally, images belonging to the target class should appear at the top of the respective list. To conduct this evaluation, use the test image histograms generated earlier for the two selected feature extraction techniques. Classify each test image with each classifier, rank them based on their confidence scores, and then compute the Mean Average Precision (mAP) across all classes. The mAP for a single class $c$ is defined as:\n",
    "\n",
    "$\n",
    "\\text{mAP}_c = \\frac{1}{m_c} \\sum_{i=1}^{n} \\frac{f_c(x_i)}{i}\n",
    "$\n",
    "\n",
    "where:\n",
    "- $n$ is the total number of images ($n = 50 \\times 5 = 250$),\n",
    "- $m_c$ is the number of images of class $c$ ($m_c = 50$),\n",
    "- $x_i$ is the $i^{th}$ image in the ranked list $X = \\{ x_1, x_2, \\dots, x_n \\}$,\n",
    "- $f_c$ is a function that returns the number of images of class $c$ in the first $i$ images if $x_i$ is of class $c$, and 0 otherwise.\n",
    "\n",
    "For instance, if you are retrieving images of class \"R\" and the sequence of ranked images is $[R, R, T, R, T, T, R, T]$, then $n = 8$, $m_c = 4$, and:\n",
    "\n",
    "$\n",
    "AP = \\frac{1}{4} \\left( \\frac{1}{1} + \\frac{2}{2} + \\frac{0}{3} + \\frac{3}{4} + \\frac{0}{5} + \\frac{0}{6} + \\frac{4}{7} + \\frac{0}{8} \\right).\n",
    "$\n",
    "\n",
    "In addition to the quantitative analysis, perform a qualitative analysis by visualizing the top-5 and bottom-5 ranked test images."
   ]
  },
  {
   "cell_type": "code",
   "execution_count": 8,
   "metadata": {},
   "outputs": [],
   "source": [
    "# YOUR CODE HERE"
   ]
  },
  {
   "cell_type": "markdown",
   "metadata": {},
   "source": [
    "<a id=\"section-9\"></a>\n",
    "### **Section 9: Hyperparameter Search (16 points)**\n",
    "\n",
    "In this section, the task is to perform an extensive hyperparameter search to optimize the performance of your classifiers. You will experiment with various parameters, including the number of visual words (e.g., 500, 1000, 1500), different training subset sizes (e.g., 30%, 40%, 50%), SVM parameters (e.g., kernel types like 'linear' or 'rbf', regularization parameter $C$ values such as 0.1, 1, 10, and gamma settings like 'scale' or specific values such as 0.01, 0.001), and settings of the feature extractors (e.g., the number of keypoints or scale levels). Start by testing your code on the smallest subset to ensure it functions correctly before proceeding with a full hyperparameter search. Once validated, conduct the search using larger subsets and systematically iterate through the different parameter combinations, potentially using nested loops or grid search. Be sure to record the performance results for each combination to identify the best settings based on metrics like the Mean Average Precision (mAP)."
   ]
  },
  {
   "cell_type": "code",
   "execution_count": 9,
   "metadata": {},
   "outputs": [],
   "source": [
    "# YOUR CODE HERE"
   ]
  },
  {
   "cell_type": "markdown",
   "metadata": {},
   "source": [
    "<a id=\"section-10\"></a>\n",
    "### **Section 10: Using CLIP for Image Classification (5 points)**\n",
    "\n",
    "**<span style=\"color:red\">⚠️ NOTE: This section should NOT be included in the report. It is only meant to be completed in the code cells. The purpose of this task is to introduce you to a more state-of-the-art model (CLIP) compared to Bag of Visual Words (BoVW). Vision Transformers (ViT) will be covered in more detail in the Deep Learning 1 course next period!</span>**\n",
    "\n",
    "In this section, you will use a pre-trained CLIP model for image classification. CLIP (Contrastive Language-Image Pretraining) is a vision-language transformer model trained on a large dataset of images and text. It consists of two main components: a Vision Transformer (ViT) and a text Transformer. The ViT encodes images by dividing them into patches (tokens), flattening each patch into a vector, and passing them through a sequence of Transformer layers to produce an encoded representation of the image.\n",
    "\n",
    "For this task, you will use the visual transformer component of CLIP to extract encoded representations of the input images. While this is not the typical way to use CLIP (which involves encoding both images and text for similarity comparison), it provides an interesting application of this state-of-the-art model for image classification.\n",
    "\n",
    "**To Install CLIP:**\n",
    "```python\n",
    "pip install git+https://github.com/openai/CLIP.git\n",
    "```\n",
    "\n",
    "**Additional Reading (if you're interested):**\n",
    "- [OpenAI CLIP Overview](https://openai.com/clip)\n",
    "- [Vision Transformer (ViT) Paper](https://arxiv.org/abs/2010.11929)\n",
    "- [Tutorial on Vision Transformers](https://d2l.ai/chapter_attention-mechanisms-and-transformers/vision-transformer.html)\n",
    "- [UvA's Deep Learning Introduction to ViTs](https://uvadlc-notebooks.readthedocs.io/en/latest/tutorial_notebooks/tutorial15/Vision_Transformer.html)"
   ]
  },
  {
   "cell_type": "markdown",
   "metadata": {},
   "source": [
    "First, create DataLoaders for both the training and test datasets by filtering the CIFAR-10 dataset to include only the selected classes: frog, automobile, bird, cat, and deer. Use a batch size of 16 for both DataLoaders, and resize the images to 224x224 to match the input size requirements for CLIP. Remember to normalize the images using the appropriate mean and standard deviation. Use a training set size of 1000 images per class and a test set size of 200 images per class."
   ]
  },
  {
   "cell_type": "code",
   "execution_count": 4,
   "metadata": {},
   "outputs": [],
   "source": [
    "import torch\n",
    "import torchvision\n",
    "import torchvision.transforms as transforms\n",
    "from torch.utils.data import DataLoader, Dataset, Subset\n",
    "import numpy as np\n",
    "import matplotlib.pyplot as plt\n",
    "import cv2\n",
    "from tqdm import tqdm \n",
    "from sklearn import svm"
   ]
  },
  {
   "cell_type": "code",
   "execution_count": 5,
   "metadata": {},
   "outputs": [
    {
     "name": "stdout",
     "output_type": "stream",
     "text": [
      "Files already downloaded and verified\n",
      "Files already downloaded and verified\n"
     ]
    }
   ],
   "source": [
    "# Define total train and test sizes\n",
    "total_train_size = 5000  # Default value for total training images\n",
    "total_test_size = 1000   # Default value for total test images\n",
    "\n",
    "# Define batch sizes for DataLoader\n",
    "train_batch_size = 32\n",
    "test_batch_size = 32\n",
    "\n",
    "# Define the number of Visual Words\n",
    "num_of_visual_words = 1000  # Default value for number of visual words\n",
    "\n",
    "# Number of classes\n",
    "num_classes = 5\n",
    "\n",
    "# Compute images per class for training and testing\n",
    "images_per_class_train = total_train_size // num_classes  # e.g., 5000 // 5 = 1000 per class\n",
    "images_per_class_test = total_test_size // num_classes    # e.g., 1000 // 5 = 200 per class\n",
    "\n",
    "# Define the transformations\n",
    "transform = transforms.Compose([\n",
    "    transforms.Resize((224, 224)),\n",
    "    transforms.ToTensor(),\n",
    "    transforms.Normalize((0.5, 0.5, 0.5), (0.5, 0.5, 0.5))  \n",
    "])\n",
    "\n",
    "# Define the class indices for the 5 selected classes: frog, automobile, bird, cat, and deer\n",
    "selected_classes = [6, 1, 2, 3, 4]  # 6: frog, 1: automobile, 2: bird, 3: cat, 4: deer\n",
    "class_to_label = {orig_class: new_label for new_label, orig_class in enumerate(selected_classes)}\n",
    "\n",
    "# Load the CIFAR-10 training set\n",
    "train_set = torchvision.datasets.CIFAR10(root='./data', train=True, download=True, transform=transform)\n",
    "\n",
    "# Function to filter and remap dataset\n",
    "def filter_dataset(dataset, images_per_class, selected_classes, class_to_label):\n",
    "    selected_indices = []\n",
    "    class_counts = {class_idx: 0 for class_idx in selected_classes}\n",
    "    remapped_labels = []\n",
    "\n",
    "    for idx, (image, label) in enumerate(dataset):\n",
    "        if label in selected_classes and class_counts[label] < images_per_class:\n",
    "            selected_indices.append(idx)\n",
    "            remapped_labels.append(class_to_label[label])\n",
    "            class_counts[label] += 1\n",
    "\n",
    "            # Stop if we have enough samples for each class\n",
    "            if all(count >= images_per_class for count in class_counts.values()):\n",
    "                break\n",
    "\n",
    "    filtered_dataset = Subset(dataset, selected_indices)\n",
    "    return filtered_dataset, remapped_labels\n",
    "\n",
    "# Filter and remap training set\n",
    "filtered_train_set, train_mapped_labels = filter_dataset(train_set, images_per_class_train, selected_classes, class_to_label)\n",
    "\n",
    "# Load the CIFAR-10 test set\n",
    "test_set = torchvision.datasets.CIFAR10(root='./data', train=False, download=True, transform=transform)\n",
    "\n",
    "# Filter and remap test set\n",
    "filtered_test_set, test_mapped_labels = filter_dataset(test_set, images_per_class_test, selected_classes, class_to_label)\n",
    "\n",
    "# Create data loaders for the filtered datasets\n",
    "train_data_loader = DataLoader(filtered_train_set, batch_size=train_batch_size, shuffle=False)\n",
    "test_data_loader = DataLoader(filtered_test_set, batch_size=test_batch_size, shuffle=False)"
   ]
  },
  {
   "cell_type": "markdown",
   "metadata": {},
   "source": [
    "Next, we load a pre-trained CLIP model, which is a vision-language transformer designed to predict the text that describes an image and vice versa. The model consists of two components: a Vision Transformer (ViT) for encoding images and a text Transformer for encoding text. "
   ]
  },
  {
   "cell_type": "code",
   "execution_count": 6,
   "metadata": {},
   "outputs": [],
   "source": [
    "import clip\n",
    "\n",
    "# Setup the model and the preprocessor\n",
    "device = \"cuda\" if torch.cuda.is_available() else \"cpu\"\n",
    "\n",
    "# Load the pre-trained CLIP model\n",
    "model, preprocess = clip.load(\"ViT-B/32\", device=device)"
   ]
  },
  {
   "cell_type": "markdown",
   "metadata": {},
   "source": [
    "To extract the visual tokens using the CLIP model, start by initializing two empty lists: one for storing the image features and another for the labels. Use `tqdm` to create a progress bar that tracks the extraction process over the DataLoader. Iterate through the DataLoader, extracting images and labels. Disable gradient computation, and then encode the images with `model.encode_image(images)`. Append the encoded features and labels to their respective lists. Remember, the output from the model will have the shape `(batch_size, 512)` due to batched processing, if your are using a single you should reshape the output to `(512,)` to remove the batch dimension.\n",
    "\n",
    "In this example, we will use the class token as the visual representation of the image. The class token is a 512-dimensional vector that represents the image. We will use this vector to train a classifier to classify the images.\n",
    "\n",
    "**Note:** The CLIP model is quite large and may take some time to extract features from the images. You can use the `tqdm` library to create a progress bar that shows the extraction progress. It is recommended to test the code with a smaller subset of images to ensure it functions correctly before running it on the full dataset. With the default batch size of 16 and a training set size of 1000 images, the extraction process may take a 10-20 minutes."
   ]
  },
  {
   "cell_type": "code",
   "execution_count": 7,
   "metadata": {},
   "outputs": [
    {
     "name": "stderr",
     "output_type": "stream",
     "text": [
      "test: 100%|███████████████████████████████████| 157/157 [04:46<00:00,  1.83s/it]\n"
     ]
    }
   ],
   "source": [
    "image_features_list = []\n",
    "target_labels_list = []\n",
    "\n",
    "with torch.no_grad():\n",
    "    for train_images, train_labels in tqdm(train_data_loader, desc=\"test\"):\n",
    "        encoded_image = model.encode_image(train_images)\n",
    "\n",
    "        if encoded_image.shape[0] == 1:\n",
    "            encoded_image = encoded_image.view(512)\n",
    "\n",
    "        image_features_list.append(encoded_image)\n",
    "        target_labels_list.append(train_labels)\n",
    "\n",
    "# Stack the (batched) visual tokens extracted from the images. The resulting shape will be (number_of_images, 512).\n",
    "stacked_image_features = torch.cat(image_features_list)\n",
    "stacked_target_labels = torch.cat(target_labels_list)"
   ]
  },
  {
   "cell_type": "markdown",
   "metadata": {},
   "source": [
    "To train a classifier using the visual tokens, start by initializing an SVM classifier using `SVC()` from `scikit-learn`. You can play around with different hyperparameters such as kernel type, regularization parameter, and gamma to find the best configuration. Finally, use the `fit` method to train the classifier on the visual image features and labels."
   ]
  },
  {
   "cell_type": "code",
   "execution_count": 13,
   "metadata": {},
   "outputs": [
    {
     "name": "stderr",
     "output_type": "stream",
     "text": [
      "[I 2024-10-18 15:58:03,296] A new study created in memory with name: no-name-4faf41e3-a76c-4a96-b3f5-dbef64ab5638\n",
      "/tmp/ipykernel_143287/1390322857.py:5: FutureWarning: suggest_loguniform has been deprecated in v3.0.0. This feature will be removed in v6.0.0. See https://github.com/optuna/optuna/releases/tag/v3.0.0. Use suggest_float(..., log=True) instead.\n",
      "  C = trial.suggest_loguniform('C', 1e-5, 1e5)\n",
      "/tmp/ipykernel_143287/1390322857.py:6: FutureWarning: suggest_loguniform has been deprecated in v3.0.0. This feature will be removed in v6.0.0. See https://github.com/optuna/optuna/releases/tag/v3.0.0. Use suggest_float(..., log=True) instead.\n",
      "  gamma = trial.suggest_loguniform('gamma', 1e-5, 1e5)\n",
      "[I 2024-10-18 15:58:24,198] Trial 0 finished with value: 1.0 and parameters: {'C': 7.813155659380338e-05, 'gamma': 11.946543227369409, 'kernel': 'rbf'}. Best is trial 0 with value: 1.0.\n",
      "/tmp/ipykernel_143287/1390322857.py:5: FutureWarning: suggest_loguniform has been deprecated in v3.0.0. This feature will be removed in v6.0.0. See https://github.com/optuna/optuna/releases/tag/v3.0.0. Use suggest_float(..., log=True) instead.\n",
      "  C = trial.suggest_loguniform('C', 1e-5, 1e5)\n",
      "/tmp/ipykernel_143287/1390322857.py:6: FutureWarning: suggest_loguniform has been deprecated in v3.0.0. This feature will be removed in v6.0.0. See https://github.com/optuna/optuna/releases/tag/v3.0.0. Use suggest_float(..., log=True) instead.\n",
      "  gamma = trial.suggest_loguniform('gamma', 1e-5, 1e5)\n",
      "[I 2024-10-18 15:58:43,824] Trial 1 finished with value: 0.2328 and parameters: {'C': 0.0023981856572911266, 'gamma': 0.06363728595260235, 'kernel': 'sigmoid'}. Best is trial 0 with value: 1.0.\n",
      "/tmp/ipykernel_143287/1390322857.py:5: FutureWarning: suggest_loguniform has been deprecated in v3.0.0. This feature will be removed in v6.0.0. See https://github.com/optuna/optuna/releases/tag/v3.0.0. Use suggest_float(..., log=True) instead.\n",
      "  C = trial.suggest_loguniform('C', 1e-5, 1e5)\n",
      "/tmp/ipykernel_143287/1390322857.py:6: FutureWarning: suggest_loguniform has been deprecated in v3.0.0. This feature will be removed in v6.0.0. See https://github.com/optuna/optuna/releases/tag/v3.0.0. Use suggest_float(..., log=True) instead.\n",
      "  gamma = trial.suggest_loguniform('gamma', 1e-5, 1e5)\n",
      "[I 2024-10-18 15:58:46,267] Trial 2 finished with value: 1.0 and parameters: {'C': 3.202791430925564e-05, 'gamma': 16.261634867639383, 'kernel': 'poly'}. Best is trial 0 with value: 1.0.\n",
      "/tmp/ipykernel_143287/1390322857.py:5: FutureWarning: suggest_loguniform has been deprecated in v3.0.0. This feature will be removed in v6.0.0. See https://github.com/optuna/optuna/releases/tag/v3.0.0. Use suggest_float(..., log=True) instead.\n",
      "  C = trial.suggest_loguniform('C', 1e-5, 1e5)\n",
      "/tmp/ipykernel_143287/1390322857.py:6: FutureWarning: suggest_loguniform has been deprecated in v3.0.0. This feature will be removed in v6.0.0. See https://github.com/optuna/optuna/releases/tag/v3.0.0. Use suggest_float(..., log=True) instead.\n",
      "  gamma = trial.suggest_loguniform('gamma', 1e-5, 1e5)\n",
      "[I 2024-10-18 15:58:48,675] Trial 3 finished with value: 1.0 and parameters: {'C': 1.9526665310417224e-05, 'gamma': 2.4587943343945633, 'kernel': 'poly'}. Best is trial 0 with value: 1.0.\n",
      "/tmp/ipykernel_143287/1390322857.py:5: FutureWarning: suggest_loguniform has been deprecated in v3.0.0. This feature will be removed in v6.0.0. See https://github.com/optuna/optuna/releases/tag/v3.0.0. Use suggest_float(..., log=True) instead.\n",
      "  C = trial.suggest_loguniform('C', 1e-5, 1e5)\n",
      "/tmp/ipykernel_143287/1390322857.py:6: FutureWarning: suggest_loguniform has been deprecated in v3.0.0. This feature will be removed in v6.0.0. See https://github.com/optuna/optuna/releases/tag/v3.0.0. Use suggest_float(..., log=True) instead.\n",
      "  gamma = trial.suggest_loguniform('gamma', 1e-5, 1e5)\n",
      "[I 2024-10-18 15:59:05,433] Trial 4 finished with value: 0.2 and parameters: {'C': 152.65305778756593, 'gamma': 14354.536723438121, 'kernel': 'sigmoid'}. Best is trial 0 with value: 1.0.\n",
      "/tmp/ipykernel_143287/1390322857.py:5: FutureWarning: suggest_loguniform has been deprecated in v3.0.0. This feature will be removed in v6.0.0. See https://github.com/optuna/optuna/releases/tag/v3.0.0. Use suggest_float(..., log=True) instead.\n",
      "  C = trial.suggest_loguniform('C', 1e-5, 1e5)\n",
      "/tmp/ipykernel_143287/1390322857.py:6: FutureWarning: suggest_loguniform has been deprecated in v3.0.0. This feature will be removed in v6.0.0. See https://github.com/optuna/optuna/releases/tag/v3.0.0. Use suggest_float(..., log=True) instead.\n",
      "  gamma = trial.suggest_loguniform('gamma', 1e-5, 1e5)\n",
      "[I 2024-10-18 15:59:15,432] Trial 5 finished with value: 0.896 and parameters: {'C': 0.00036709571063321585, 'gamma': 574.2855837214715, 'kernel': 'linear'}. Best is trial 0 with value: 1.0.\n",
      "/tmp/ipykernel_143287/1390322857.py:5: FutureWarning: suggest_loguniform has been deprecated in v3.0.0. This feature will be removed in v6.0.0. See https://github.com/optuna/optuna/releases/tag/v3.0.0. Use suggest_float(..., log=True) instead.\n",
      "  C = trial.suggest_loguniform('C', 1e-5, 1e5)\n",
      "/tmp/ipykernel_143287/1390322857.py:6: FutureWarning: suggest_loguniform has been deprecated in v3.0.0. This feature will be removed in v6.0.0. See https://github.com/optuna/optuna/releases/tag/v3.0.0. Use suggest_float(..., log=True) instead.\n",
      "  gamma = trial.suggest_loguniform('gamma', 1e-5, 1e5)\n",
      "[I 2024-10-18 15:59:18,015] Trial 6 finished with value: 1.0 and parameters: {'C': 33.17273724738459, 'gamma': 0.0270230597874914, 'kernel': 'poly'}. Best is trial 0 with value: 1.0.\n",
      "/tmp/ipykernel_143287/1390322857.py:5: FutureWarning: suggest_loguniform has been deprecated in v3.0.0. This feature will be removed in v6.0.0. See https://github.com/optuna/optuna/releases/tag/v3.0.0. Use suggest_float(..., log=True) instead.\n",
      "  C = trial.suggest_loguniform('C', 1e-5, 1e5)\n",
      "/tmp/ipykernel_143287/1390322857.py:6: FutureWarning: suggest_loguniform has been deprecated in v3.0.0. This feature will be removed in v6.0.0. See https://github.com/optuna/optuna/releases/tag/v3.0.0. Use suggest_float(..., log=True) instead.\n",
      "  gamma = trial.suggest_loguniform('gamma', 1e-5, 1e5)\n",
      "[I 2024-10-18 15:59:22,028] Trial 7 finished with value: 0.9414 and parameters: {'C': 0.02479540496664678, 'gamma': 0.01913407818457436, 'kernel': 'poly'}. Best is trial 0 with value: 1.0.\n",
      "/tmp/ipykernel_143287/1390322857.py:5: FutureWarning: suggest_loguniform has been deprecated in v3.0.0. This feature will be removed in v6.0.0. See https://github.com/optuna/optuna/releases/tag/v3.0.0. Use suggest_float(..., log=True) instead.\n",
      "  C = trial.suggest_loguniform('C', 1e-5, 1e5)\n",
      "/tmp/ipykernel_143287/1390322857.py:6: FutureWarning: suggest_loguniform has been deprecated in v3.0.0. This feature will be removed in v6.0.0. See https://github.com/optuna/optuna/releases/tag/v3.0.0. Use suggest_float(..., log=True) instead.\n",
      "  gamma = trial.suggest_loguniform('gamma', 1e-5, 1e5)\n",
      "[I 2024-10-18 15:59:38,651] Trial 8 finished with value: 0.8308 and parameters: {'C': 0.001239620497971061, 'gamma': 9.266039589866469e-05, 'kernel': 'sigmoid'}. Best is trial 0 with value: 1.0.\n",
      "/tmp/ipykernel_143287/1390322857.py:5: FutureWarning: suggest_loguniform has been deprecated in v3.0.0. This feature will be removed in v6.0.0. See https://github.com/optuna/optuna/releases/tag/v3.0.0. Use suggest_float(..., log=True) instead.\n",
      "  C = trial.suggest_loguniform('C', 1e-5, 1e5)\n",
      "/tmp/ipykernel_143287/1390322857.py:6: FutureWarning: suggest_loguniform has been deprecated in v3.0.0. This feature will be removed in v6.0.0. See https://github.com/optuna/optuna/releases/tag/v3.0.0. Use suggest_float(..., log=True) instead.\n",
      "  gamma = trial.suggest_loguniform('gamma', 1e-5, 1e5)\n",
      "[I 2024-10-18 15:59:40,204] Trial 9 finished with value: 1.0 and parameters: {'C': 31648.99377079076, 'gamma': 0.00013007443904148659, 'kernel': 'linear'}. Best is trial 0 with value: 1.0.\n",
      "/tmp/ipykernel_143287/1390322857.py:5: FutureWarning: suggest_loguniform has been deprecated in v3.0.0. This feature will be removed in v6.0.0. See https://github.com/optuna/optuna/releases/tag/v3.0.0. Use suggest_float(..., log=True) instead.\n",
      "  C = trial.suggest_loguniform('C', 1e-5, 1e5)\n",
      "/tmp/ipykernel_143287/1390322857.py:6: FutureWarning: suggest_loguniform has been deprecated in v3.0.0. This feature will be removed in v6.0.0. See https://github.com/optuna/optuna/releases/tag/v3.0.0. Use suggest_float(..., log=True) instead.\n",
      "  gamma = trial.suggest_loguniform('gamma', 1e-5, 1e5)\n",
      "[I 2024-10-18 15:59:59,418] Trial 10 finished with value: 1.0 and parameters: {'C': 0.08341913666048038, 'gamma': 204.8537414059686, 'kernel': 'rbf'}. Best is trial 0 with value: 1.0.\n",
      "/tmp/ipykernel_143287/1390322857.py:5: FutureWarning: suggest_loguniform has been deprecated in v3.0.0. This feature will be removed in v6.0.0. See https://github.com/optuna/optuna/releases/tag/v3.0.0. Use suggest_float(..., log=True) instead.\n",
      "  C = trial.suggest_loguniform('C', 1e-5, 1e5)\n",
      "/tmp/ipykernel_143287/1390322857.py:6: FutureWarning: suggest_loguniform has been deprecated in v3.0.0. This feature will be removed in v6.0.0. See https://github.com/optuna/optuna/releases/tag/v3.0.0. Use suggest_float(..., log=True) instead.\n",
      "  gamma = trial.suggest_loguniform('gamma', 1e-5, 1e5)\n",
      "[I 2024-10-18 16:00:18,889] Trial 11 finished with value: 1.0 and parameters: {'C': 1.011367258717869e-05, 'gamma': 8.137067498001214, 'kernel': 'rbf'}. Best is trial 0 with value: 1.0.\n",
      "/tmp/ipykernel_143287/1390322857.py:5: FutureWarning: suggest_loguniform has been deprecated in v3.0.0. This feature will be removed in v6.0.0. See https://github.com/optuna/optuna/releases/tag/v3.0.0. Use suggest_float(..., log=True) instead.\n",
      "  C = trial.suggest_loguniform('C', 1e-5, 1e5)\n",
      "/tmp/ipykernel_143287/1390322857.py:6: FutureWarning: suggest_loguniform has been deprecated in v3.0.0. This feature will be removed in v6.0.0. See https://github.com/optuna/optuna/releases/tag/v3.0.0. Use suggest_float(..., log=True) instead.\n",
      "  gamma = trial.suggest_loguniform('gamma', 1e-5, 1e5)\n",
      "[I 2024-10-18 16:00:38,048] Trial 12 finished with value: 1.0 and parameters: {'C': 1.1027692961580626, 'gamma': 79.44350866230778, 'kernel': 'rbf'}. Best is trial 0 with value: 1.0.\n",
      "/tmp/ipykernel_143287/1390322857.py:5: FutureWarning: suggest_loguniform has been deprecated in v3.0.0. This feature will be removed in v6.0.0. See https://github.com/optuna/optuna/releases/tag/v3.0.0. Use suggest_float(..., log=True) instead.\n",
      "  C = trial.suggest_loguniform('C', 1e-5, 1e5)\n",
      "/tmp/ipykernel_143287/1390322857.py:6: FutureWarning: suggest_loguniform has been deprecated in v3.0.0. This feature will be removed in v6.0.0. See https://github.com/optuna/optuna/releases/tag/v3.0.0. Use suggest_float(..., log=True) instead.\n",
      "  gamma = trial.suggest_loguniform('gamma', 1e-5, 1e5)\n",
      "[I 2024-10-18 16:00:57,913] Trial 13 finished with value: 1.0 and parameters: {'C': 0.0001121470877411957, 'gamma': 13691.204705039443, 'kernel': 'rbf'}. Best is trial 0 with value: 1.0.\n",
      "/tmp/ipykernel_143287/1390322857.py:5: FutureWarning: suggest_loguniform has been deprecated in v3.0.0. This feature will be removed in v6.0.0. See https://github.com/optuna/optuna/releases/tag/v3.0.0. Use suggest_float(..., log=True) instead.\n",
      "  C = trial.suggest_loguniform('C', 1e-5, 1e5)\n",
      "/tmp/ipykernel_143287/1390322857.py:6: FutureWarning: suggest_loguniform has been deprecated in v3.0.0. This feature will be removed in v6.0.0. See https://github.com/optuna/optuna/releases/tag/v3.0.0. Use suggest_float(..., log=True) instead.\n",
      "  gamma = trial.suggest_loguniform('gamma', 1e-5, 1e5)\n",
      "[I 2024-10-18 16:01:00,239] Trial 14 finished with value: 1.0 and parameters: {'C': 0.013780879066722028, 'gamma': 0.40457657189594026, 'kernel': 'poly'}. Best is trial 0 with value: 1.0.\n",
      "/tmp/ipykernel_143287/1390322857.py:5: FutureWarning: suggest_loguniform has been deprecated in v3.0.0. This feature will be removed in v6.0.0. See https://github.com/optuna/optuna/releases/tag/v3.0.0. Use suggest_float(..., log=True) instead.\n",
      "  C = trial.suggest_loguniform('C', 1e-5, 1e5)\n",
      "/tmp/ipykernel_143287/1390322857.py:6: FutureWarning: suggest_loguniform has been deprecated in v3.0.0. This feature will be removed in v6.0.0. See https://github.com/optuna/optuna/releases/tag/v3.0.0. Use suggest_float(..., log=True) instead.\n",
      "  gamma = trial.suggest_loguniform('gamma', 1e-5, 1e5)\n",
      "[I 2024-10-18 16:01:19,765] Trial 15 finished with value: 1.0 and parameters: {'C': 0.6702455009655642, 'gamma': 14.442396945081173, 'kernel': 'rbf'}. Best is trial 0 with value: 1.0.\n",
      "/tmp/ipykernel_143287/1390322857.py:5: FutureWarning: suggest_loguniform has been deprecated in v3.0.0. This feature will be removed in v6.0.0. See https://github.com/optuna/optuna/releases/tag/v3.0.0. Use suggest_float(..., log=True) instead.\n",
      "  C = trial.suggest_loguniform('C', 1e-5, 1e5)\n",
      "/tmp/ipykernel_143287/1390322857.py:6: FutureWarning: suggest_loguniform has been deprecated in v3.0.0. This feature will be removed in v6.0.0. See https://github.com/optuna/optuna/releases/tag/v3.0.0. Use suggest_float(..., log=True) instead.\n",
      "  gamma = trial.suggest_loguniform('gamma', 1e-5, 1e5)\n",
      "[I 2024-10-18 16:01:22,104] Trial 16 finished with value: 1.0 and parameters: {'C': 0.0001158722248055147, 'gamma': 1360.2861302539027, 'kernel': 'poly'}. Best is trial 0 with value: 1.0.\n",
      "/tmp/ipykernel_143287/1390322857.py:5: FutureWarning: suggest_loguniform has been deprecated in v3.0.0. This feature will be removed in v6.0.0. See https://github.com/optuna/optuna/releases/tag/v3.0.0. Use suggest_float(..., log=True) instead.\n",
      "  C = trial.suggest_loguniform('C', 1e-5, 1e5)\n",
      "/tmp/ipykernel_143287/1390322857.py:6: FutureWarning: suggest_loguniform has been deprecated in v3.0.0. This feature will be removed in v6.0.0. See https://github.com/optuna/optuna/releases/tag/v3.0.0. Use suggest_float(..., log=True) instead.\n",
      "  gamma = trial.suggest_loguniform('gamma', 1e-5, 1e5)\n",
      "[I 2024-10-18 16:01:23,663] Trial 17 finished with value: 1.0 and parameters: {'C': 56813.09254697476, 'gamma': 0.35202037247093343, 'kernel': 'linear'}. Best is trial 0 with value: 1.0.\n",
      "/tmp/ipykernel_143287/1390322857.py:5: FutureWarning: suggest_loguniform has been deprecated in v3.0.0. This feature will be removed in v6.0.0. See https://github.com/optuna/optuna/releases/tag/v3.0.0. Use suggest_float(..., log=True) instead.\n",
      "  C = trial.suggest_loguniform('C', 1e-5, 1e5)\n",
      "/tmp/ipykernel_143287/1390322857.py:6: FutureWarning: suggest_loguniform has been deprecated in v3.0.0. This feature will be removed in v6.0.0. See https://github.com/optuna/optuna/releases/tag/v3.0.0. Use suggest_float(..., log=True) instead.\n",
      "  gamma = trial.suggest_loguniform('gamma', 1e-5, 1e5)\n",
      "[I 2024-10-18 16:01:39,003] Trial 18 finished with value: 0.834 and parameters: {'C': 1.0473891457434517e-05, 'gamma': 0.0034426468122733885, 'kernel': 'poly'}. Best is trial 0 with value: 1.0.\n",
      "/tmp/ipykernel_143287/1390322857.py:5: FutureWarning: suggest_loguniform has been deprecated in v3.0.0. This feature will be removed in v6.0.0. See https://github.com/optuna/optuna/releases/tag/v3.0.0. Use suggest_float(..., log=True) instead.\n",
      "  C = trial.suggest_loguniform('C', 1e-5, 1e5)\n",
      "/tmp/ipykernel_143287/1390322857.py:6: FutureWarning: suggest_loguniform has been deprecated in v3.0.0. This feature will be removed in v6.0.0. See https://github.com/optuna/optuna/releases/tag/v3.0.0. Use suggest_float(..., log=True) instead.\n",
      "  gamma = trial.suggest_loguniform('gamma', 1e-5, 1e5)\n",
      "[I 2024-10-18 16:01:58,311] Trial 19 finished with value: 1.0 and parameters: {'C': 0.0040830007129751145, 'gamma': 85335.9882663299, 'kernel': 'rbf'}. Best is trial 0 with value: 1.0.\n",
      "/tmp/ipykernel_143287/1390322857.py:5: FutureWarning: suggest_loguniform has been deprecated in v3.0.0. This feature will be removed in v6.0.0. See https://github.com/optuna/optuna/releases/tag/v3.0.0. Use suggest_float(..., log=True) instead.\n",
      "  C = trial.suggest_loguniform('C', 1e-5, 1e5)\n",
      "/tmp/ipykernel_143287/1390322857.py:6: FutureWarning: suggest_loguniform has been deprecated in v3.0.0. This feature will be removed in v6.0.0. See https://github.com/optuna/optuna/releases/tag/v3.0.0. Use suggest_float(..., log=True) instead.\n",
      "  gamma = trial.suggest_loguniform('gamma', 1e-5, 1e5)\n",
      "[I 2024-10-18 16:02:00,624] Trial 20 finished with value: 1.0 and parameters: {'C': 27.996619676992463, 'gamma': 55.39181404438761, 'kernel': 'poly'}. Best is trial 0 with value: 1.0.\n",
      "/tmp/ipykernel_143287/1390322857.py:5: FutureWarning: suggest_loguniform has been deprecated in v3.0.0. This feature will be removed in v6.0.0. See https://github.com/optuna/optuna/releases/tag/v3.0.0. Use suggest_float(..., log=True) instead.\n",
      "  C = trial.suggest_loguniform('C', 1e-5, 1e5)\n",
      "/tmp/ipykernel_143287/1390322857.py:6: FutureWarning: suggest_loguniform has been deprecated in v3.0.0. This feature will be removed in v6.0.0. See https://github.com/optuna/optuna/releases/tag/v3.0.0. Use suggest_float(..., log=True) instead.\n",
      "  gamma = trial.suggest_loguniform('gamma', 1e-5, 1e5)\n",
      "[I 2024-10-18 16:02:02,924] Trial 21 finished with value: 1.0 and parameters: {'C': 5.2399846744893166e-05, 'gamma': 6.607681121414399, 'kernel': 'poly'}. Best is trial 0 with value: 1.0.\n",
      "/tmp/ipykernel_143287/1390322857.py:5: FutureWarning: suggest_loguniform has been deprecated in v3.0.0. This feature will be removed in v6.0.0. See https://github.com/optuna/optuna/releases/tag/v3.0.0. Use suggest_float(..., log=True) instead.\n",
      "  C = trial.suggest_loguniform('C', 1e-5, 1e5)\n",
      "/tmp/ipykernel_143287/1390322857.py:6: FutureWarning: suggest_loguniform has been deprecated in v3.0.0. This feature will be removed in v6.0.0. See https://github.com/optuna/optuna/releases/tag/v3.0.0. Use suggest_float(..., log=True) instead.\n",
      "  gamma = trial.suggest_loguniform('gamma', 1e-5, 1e5)\n",
      "[I 2024-10-18 16:02:05,210] Trial 22 finished with value: 1.0 and parameters: {'C': 0.0003889643223668595, 'gamma': 2.757176548169338, 'kernel': 'poly'}. Best is trial 0 with value: 1.0.\n",
      "/tmp/ipykernel_143287/1390322857.py:5: FutureWarning: suggest_loguniform has been deprecated in v3.0.0. This feature will be removed in v6.0.0. See https://github.com/optuna/optuna/releases/tag/v3.0.0. Use suggest_float(..., log=True) instead.\n",
      "  C = trial.suggest_loguniform('C', 1e-5, 1e5)\n",
      "/tmp/ipykernel_143287/1390322857.py:6: FutureWarning: suggest_loguniform has been deprecated in v3.0.0. This feature will be removed in v6.0.0. See https://github.com/optuna/optuna/releases/tag/v3.0.0. Use suggest_float(..., log=True) instead.\n",
      "  gamma = trial.suggest_loguniform('gamma', 1e-5, 1e5)\n",
      "[I 2024-10-18 16:02:07,512] Trial 23 finished with value: 1.0 and parameters: {'C': 2.98445227621704e-05, 'gamma': 1.4827381847858132, 'kernel': 'poly'}. Best is trial 0 with value: 1.0.\n",
      "/tmp/ipykernel_143287/1390322857.py:5: FutureWarning: suggest_loguniform has been deprecated in v3.0.0. This feature will be removed in v6.0.0. See https://github.com/optuna/optuna/releases/tag/v3.0.0. Use suggest_float(..., log=True) instead.\n",
      "  C = trial.suggest_loguniform('C', 1e-5, 1e5)\n",
      "/tmp/ipykernel_143287/1390322857.py:6: FutureWarning: suggest_loguniform has been deprecated in v3.0.0. This feature will be removed in v6.0.0. See https://github.com/optuna/optuna/releases/tag/v3.0.0. Use suggest_float(..., log=True) instead.\n",
      "  gamma = trial.suggest_loguniform('gamma', 1e-5, 1e5)\n",
      "[I 2024-10-18 16:02:09,793] Trial 24 finished with value: 1.0 and parameters: {'C': 0.0006192954009587953, 'gamma': 34.02005006748095, 'kernel': 'poly'}. Best is trial 0 with value: 1.0.\n",
      "/tmp/ipykernel_143287/1390322857.py:5: FutureWarning: suggest_loguniform has been deprecated in v3.0.0. This feature will be removed in v6.0.0. See https://github.com/optuna/optuna/releases/tag/v3.0.0. Use suggest_float(..., log=True) instead.\n",
      "  C = trial.suggest_loguniform('C', 1e-5, 1e5)\n",
      "/tmp/ipykernel_143287/1390322857.py:6: FutureWarning: suggest_loguniform has been deprecated in v3.0.0. This feature will be removed in v6.0.0. See https://github.com/optuna/optuna/releases/tag/v3.0.0. Use suggest_float(..., log=True) instead.\n",
      "  gamma = trial.suggest_loguniform('gamma', 1e-5, 1e5)\n",
      "[I 2024-10-18 16:02:28,030] Trial 25 finished with value: 0.5708 and parameters: {'C': 0.00010183041288299059, 'gamma': 0.20436063855194694, 'kernel': 'rbf'}. Best is trial 0 with value: 1.0.\n",
      "/tmp/ipykernel_143287/1390322857.py:5: FutureWarning: suggest_loguniform has been deprecated in v3.0.0. This feature will be removed in v6.0.0. See https://github.com/optuna/optuna/releases/tag/v3.0.0. Use suggest_float(..., log=True) instead.\n",
      "  C = trial.suggest_loguniform('C', 1e-5, 1e5)\n",
      "/tmp/ipykernel_143287/1390322857.py:6: FutureWarning: suggest_loguniform has been deprecated in v3.0.0. This feature will be removed in v6.0.0. See https://github.com/optuna/optuna/releases/tag/v3.0.0. Use suggest_float(..., log=True) instead.\n",
      "  gamma = trial.suggest_loguniform('gamma', 1e-5, 1e5)\n",
      "[I 2024-10-18 16:02:35,042] Trial 26 finished with value: 0.9168 and parameters: {'C': 0.282215017060056, 'gamma': 0.004296171571593097, 'kernel': 'sigmoid'}. Best is trial 0 with value: 1.0.\n",
      "/tmp/ipykernel_143287/1390322857.py:5: FutureWarning: suggest_loguniform has been deprecated in v3.0.0. This feature will be removed in v6.0.0. See https://github.com/optuna/optuna/releases/tag/v3.0.0. Use suggest_float(..., log=True) instead.\n",
      "  C = trial.suggest_loguniform('C', 1e-5, 1e5)\n",
      "/tmp/ipykernel_143287/1390322857.py:6: FutureWarning: suggest_loguniform has been deprecated in v3.0.0. This feature will be removed in v6.0.0. See https://github.com/optuna/optuna/releases/tag/v3.0.0. Use suggest_float(..., log=True) instead.\n",
      "  gamma = trial.suggest_loguniform('gamma', 1e-5, 1e5)\n",
      "[I 2024-10-18 16:02:38,411] Trial 27 finished with value: 0.9376 and parameters: {'C': 0.006959921220686551, 'gamma': 960.6419123501923, 'kernel': 'linear'}. Best is trial 0 with value: 1.0.\n",
      "/tmp/ipykernel_143287/1390322857.py:5: FutureWarning: suggest_loguniform has been deprecated in v3.0.0. This feature will be removed in v6.0.0. See https://github.com/optuna/optuna/releases/tag/v3.0.0. Use suggest_float(..., log=True) instead.\n",
      "  C = trial.suggest_loguniform('C', 1e-5, 1e5)\n",
      "/tmp/ipykernel_143287/1390322857.py:6: FutureWarning: suggest_loguniform has been deprecated in v3.0.0. This feature will be removed in v6.0.0. See https://github.com/optuna/optuna/releases/tag/v3.0.0. Use suggest_float(..., log=True) instead.\n",
      "  gamma = trial.suggest_loguniform('gamma', 1e-5, 1e5)\n",
      "[I 2024-10-18 16:02:40,721] Trial 28 finished with value: 1.0 and parameters: {'C': 1642.140727934292, 'gamma': 1.4927634823404896, 'kernel': 'poly'}. Best is trial 0 with value: 1.0.\n",
      "/tmp/ipykernel_143287/1390322857.py:5: FutureWarning: suggest_loguniform has been deprecated in v3.0.0. This feature will be removed in v6.0.0. See https://github.com/optuna/optuna/releases/tag/v3.0.0. Use suggest_float(..., log=True) instead.\n",
      "  C = trial.suggest_loguniform('C', 1e-5, 1e5)\n",
      "/tmp/ipykernel_143287/1390322857.py:6: FutureWarning: suggest_loguniform has been deprecated in v3.0.0. This feature will be removed in v6.0.0. See https://github.com/optuna/optuna/releases/tag/v3.0.0. Use suggest_float(..., log=True) instead.\n",
      "  gamma = trial.suggest_loguniform('gamma', 1e-5, 1e5)\n",
      "[I 2024-10-18 16:02:58,970] Trial 29 finished with value: 0.7084 and parameters: {'C': 1.0207136033941636e-05, 'gamma': 0.11826382895987418, 'kernel': 'rbf'}. Best is trial 0 with value: 1.0.\n"
     ]
    },
    {
     "name": "stdout",
     "output_type": "stream",
     "text": [
      "Best hyperparameters:\n",
      "{'C': 7.813155659380338e-05, 'gamma': 11.946543227369409, 'kernel': 'rbf'}\n",
      "Best accuracy: 1.0000\n"
     ]
    }
   ],
   "source": [
    "from sklearn.metrics import accuracy_score\n",
    "# Function to create an SVM model and evaluate it, finding the optimal hyperparameters\n",
    "def objective(trial):\n",
    "    # Suggest hyperparameters to tune\n",
    "    C = trial.suggest_loguniform('C', 1e-5, 1e5)\n",
    "    gamma = trial.suggest_loguniform('gamma', 1e-5, 1e5)\n",
    "    kernel = trial.suggest_categorical('kernel', ['linear', 'poly', 'rbf', 'sigmoid'])\n",
    "\n",
    "    # Create and fit the SVC model\n",
    "    svc = svm.SVC(C=C, gamma=gamma, kernel=kernel)\n",
    "\n",
    "    \n",
    "    svc.fit(stacked_image_features, stacked_target_labels)\n",
    "    \n",
    "    # Make predictions on the test set\n",
    "    predicted_test_labels = svc.predict(test_stacked_image_features)\n",
    "    \n",
    "    # Return the accuracy score (to minimize the negative accuracy)\n",
    "    return accuracy_score(test_stacked_target_labels, predicted_test_labels)\n",
    "\n",
    "# Create a study object\n",
    "study = optuna.create_study(direction='maximize')  # We want to maximize accuracy\n",
    "\n",
    "# Optimize the study\n",
    "study.optimize(objective, n_trials=30)  # You can adjust the number of trials\n",
    "\n",
    "# Print the best hyperparameters\n",
    "print(\"Best hyperparameters:\")\n",
    "print(study.best_params)\n",
    "print(f\"Best accuracy: {study.best_value:.4f}\")\n"
   ]
  },
  {
   "cell_type": "code",
   "execution_count": 18,
   "metadata": {},
   "outputs": [
    {
     "name": "stdout",
     "output_type": "stream",
     "text": [
      "tensor([6, 4, 1,  ..., 1, 1, 1])\n"
     ]
    }
   ],
   "source": [
    "# kernel type, regularization parameter, and gamma hypertuning\n",
    "svc = svm.SVC(C=7.813e-05, kernel='rbf', gamma=11.946)\n",
    "svc.fit(stacked_image_features, stacked_target_labels)\n",
    "print(stacked_target_labels)"
   ]
  },
  {
   "cell_type": "markdown",
   "metadata": {},
   "source": [
    "To evaluate the classifier, start by extracting the visual tokens from the test images using the same method applied to the training set. Loop through the test DataLoader, encode each batch of images using the model (e.g., `model.encode_image(images)`), and store the results in separate lists for the features and labels. After extracting all the features, stack them into a single tensor for both the features and labels. This process will prepare the test data for use in evaluating the classifier's performance."
   ]
  },
  {
   "cell_type": "code",
   "execution_count": 19,
   "metadata": {},
   "outputs": [
    {
     "name": "stderr",
     "output_type": "stream",
     "text": [
      "test: 100%|███████████████████████████████████| 157/157 [03:13<00:00,  1.23s/it]\n"
     ]
    }
   ],
   "source": [
    "test_image_features_list = []\n",
    "test_target_labels_list = []\n",
    "\n",
    "with torch.no_grad():\n",
    "    for test_images, test_labels in tqdm(train_data_loader, desc=\"test\"):\n",
    "        test_encoded_image = model.encode_image(test_images)\n",
    "\n",
    "        if test_encoded_image.shape[0] == 1:\n",
    "            test_encoded_image = test_encoded_image.view(512)\n",
    "\n",
    "        test_image_features_list.append(test_encoded_image)\n",
    "        test_target_labels_list.append(test_labels)\n",
    "\n",
    "# Stack the (batched) visual tokens extracted from the images. The resulting shape will be (number_of_images, 512).p\n",
    "test_stacked_image_features = torch.cat(test_image_features_list)\n",
    "test_stacked_target_labels = torch.cat(test_target_labels_list)"
   ]
  },
  {
   "cell_type": "markdown",
   "metadata": {},
   "source": [
    "To evaluate the performance of your classifier, use the test set features you extracted earlier. First, generate predictions for the test set by passing the stacked test features into your trained classifier's `predict` method. Next, use the `classification_report` function from `sklearn.metrics` to create a detailed report that includes metrics such as precision, recall, and F1-score for each class. Finally, print the report to analyze how well your classifier performs across the different classes."
   ]
  },
  {
   "cell_type": "code",
   "execution_count": 37,
   "metadata": {},
   "outputs": [
    {
     "name": "stdout",
     "output_type": "stream",
     "text": [
      "              precision    recall  f1-score   support\n",
      "\n",
      "           1       1.00      0.99      1.00      1000\n",
      "           2       0.95      0.93      0.94      1000\n",
      "           3       0.93      0.93      0.93      1000\n",
      "           4       0.95      0.93      0.94      1000\n",
      "           6       0.91      0.95      0.93      1000\n",
      "\n",
      "    accuracy                           0.95      5000\n",
      "   macro avg       0.95      0.95      0.95      5000\n",
      "weighted avg       0.95      0.95      0.95      5000\n",
      "\n"
     ]
    }
   ],
   "source": [
    "predicted_test_labels = svc.predict(test_stacked_image_features)\n",
    "print(sklearn.metrics.classification_report(test_stacked_target_labels, predicted_test_labels))"
   ]
  },
  {
   "cell_type": "markdown",
   "metadata": {},
   "source": [
    "<a id=\"section-x\"></a>\n",
    "### **Section X: Individual Contribution Report *(Mandatory)***\n",
    "\n",
    "Because we want each student to contribute fairly to the submitted work, we ask you to fill out the textcells below. Write down your contribution to each of the assignment components in percentages. Naturally, percentages for one particular component should add up to 100% (e.g. 30% - 30% - 40%). No further explanation has to be given."
   ]
  },
  {
   "cell_type": "markdown",
   "metadata": {},
   "source": [
    "| Name | Contribution on Research | Contribution on Programming | Contribution on Writing |\n",
    "| -------- | ------- | ------- | ------- |\n",
    "|  | - % | - % | - % |\n",
    "|  | - % | - % | - % |\n",
    "|  | - % | - % | - % |\n",
    "|  | - % | - % | - % |"
   ]
  },
  {
   "cell_type": "markdown",
   "metadata": {},
   "source": [
    "### - End of Notebook -"
   ]
  }
 ],
 "metadata": {
  "kernelspec": {
   "display_name": "Python 3 (ipykernel)",
   "language": "python",
   "name": "python3"
  },
  "language_info": {
   "codemirror_mode": {
    "name": "ipython",
    "version": 3
   },
   "file_extension": ".py",
   "mimetype": "text/x-python",
   "name": "python",
   "nbconvert_exporter": "python",
   "pygments_lexer": "ipython3",
   "version": "3.12.4"
  }
 },
 "nbformat": 4,
 "nbformat_minor": 4
}
